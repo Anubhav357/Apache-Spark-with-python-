{
 "cells": [
  {
   "cell_type": "code",
   "execution_count": 1,
   "id": "a158dae6",
   "metadata": {},
   "outputs": [
    {
     "name": "stdout",
     "output_type": "stream",
     "text": [
      "Requirement already satisfied: pyspark in c:\\users\\new\\appdata\\local\\programs\\python\\python310\\lib\\site-packages (3.2.1)"
     ]
    },
    {
     "name": "stderr",
     "output_type": "stream",
     "text": [
      "WARNING: You are using pip version 22.0.3; however, version 22.0.4 is available.\n",
      "You should consider upgrading via the 'C:\\Users\\new\\AppData\\Local\\Programs\\Python\\Python310\\python.exe -m pip install --upgrade pip' command.\n"
     ]
    },
    {
     "name": "stdout",
     "output_type": "stream",
     "text": [
      "\n",
      "Requirement already satisfied: py4j==0.10.9.3 in c:\\users\\new\\appdata\\local\\programs\\python\\python310\\lib\\site-packages (from pyspark) (0.10.9.3)\n"
     ]
    }
   ],
   "source": [
    "!pip install pyspark"
   ]
  },
  {
   "cell_type": "code",
   "execution_count": 1,
   "id": "f54e3917",
   "metadata": {},
   "outputs": [],
   "source": [
    "from pyspark.sql import SparkSession"
   ]
  },
  {
   "cell_type": "code",
   "execution_count": 2,
   "id": "536945ea",
   "metadata": {},
   "outputs": [],
   "source": [
    "spark=SparkSession.builder.appName('AbaloneAge').getOrCreate()"
   ]
  },
  {
   "cell_type": "code",
   "execution_count": 3,
   "id": "f97aef35",
   "metadata": {},
   "outputs": [
    {
     "data": {
      "text/html": [
       "\n",
       "            <div>\n",
       "                <p><b>SparkSession - in-memory</b></p>\n",
       "                \n",
       "        <div>\n",
       "            <p><b>SparkContext</b></p>\n",
       "\n",
       "            <p><a href=\"http://LAPTOP-D7RTTPFS:4040\">Spark UI</a></p>\n",
       "\n",
       "            <dl>\n",
       "              <dt>Version</dt>\n",
       "                <dd><code>v3.2.1</code></dd>\n",
       "              <dt>Master</dt>\n",
       "                <dd><code>local[*]</code></dd>\n",
       "              <dt>AppName</dt>\n",
       "                <dd><code>AbaloneAge</code></dd>\n",
       "            </dl>\n",
       "        </div>\n",
       "        \n",
       "            </div>\n",
       "        "
      ],
      "text/plain": [
       "<pyspark.sql.session.SparkSession at 0x14c5f6b3700>"
      ]
     },
     "execution_count": 3,
     "metadata": {},
     "output_type": "execute_result"
    }
   ],
   "source": [
    "spark"
   ]
  },
  {
   "cell_type": "code",
   "execution_count": 4,
   "id": "00a24e00",
   "metadata": {},
   "outputs": [],
   "source": [
    "df_pyspark=spark.read.csv('data.csv',inferSchema=True)"
   ]
  },
  {
   "cell_type": "code",
   "execution_count": 5,
   "id": "86730485",
   "metadata": {},
   "outputs": [
    {
     "name": "stdout",
     "output_type": "stream",
     "text": [
      "+---+-----+-----+-----+------+------+------+-----+---+\n",
      "|_c0|  _c1|  _c2|  _c3|   _c4|   _c5|   _c6|  _c7|_c8|\n",
      "+---+-----+-----+-----+------+------+------+-----+---+\n",
      "|  M|0.455|0.365|0.095| 0.514|0.2245| 0.101| 0.15| 15|\n",
      "|  M| 0.35|0.265| 0.09|0.2255|0.0995|0.0485| 0.07|  7|\n",
      "|  F| 0.53| 0.42|0.135| 0.677|0.2565|0.1415| 0.21|  9|\n",
      "|  M| 0.44|0.365|0.125| 0.516|0.2155| 0.114|0.155| 10|\n",
      "|  I| 0.33|0.255| 0.08| 0.205|0.0895|0.0395|0.055|  7|\n",
      "|  I|0.425|  0.3|0.095|0.3515| 0.141|0.0775| 0.12|  8|\n",
      "|  F| 0.53|0.415| 0.15|0.7775| 0.237|0.1415| 0.33| 20|\n",
      "|  F|0.545|0.425|0.125| 0.768| 0.294|0.1495| 0.26| 16|\n",
      "|  M|0.475| 0.37|0.125|0.5095|0.2165|0.1125|0.165|  9|\n",
      "|  F| 0.55| 0.44| 0.15|0.8945|0.3145| 0.151| 0.32| 19|\n",
      "|  F|0.525| 0.38| 0.14|0.6065| 0.194|0.1475| 0.21| 14|\n",
      "|  M| 0.43| 0.35| 0.11| 0.406|0.1675| 0.081|0.135| 10|\n",
      "|  M| 0.49| 0.38|0.135|0.5415|0.2175| 0.095| 0.19| 11|\n",
      "|  F|0.535|0.405|0.145|0.6845|0.2725| 0.171|0.205| 10|\n",
      "|  F| 0.47|0.355|  0.1|0.4755|0.1675|0.0805|0.185| 10|\n",
      "|  M|  0.5|  0.4| 0.13|0.6645| 0.258| 0.133| 0.24| 12|\n",
      "|  I|0.355| 0.28|0.085|0.2905| 0.095|0.0395|0.115|  7|\n",
      "|  F| 0.44| 0.34|  0.1| 0.451| 0.188| 0.087| 0.13| 10|\n",
      "|  M|0.365|0.295| 0.08|0.2555| 0.097| 0.043|  0.1|  7|\n",
      "|  M| 0.45| 0.32|  0.1| 0.381|0.1705| 0.075|0.115|  9|\n",
      "+---+-----+-----+-----+------+------+------+-----+---+\n",
      "only showing top 20 rows\n",
      "\n"
     ]
    }
   ],
   "source": [
    "df_pyspark.show()"
   ]
  },
  {
   "cell_type": "code",
   "execution_count": 6,
   "id": "7f6f039c",
   "metadata": {},
   "outputs": [
    {
     "name": "stdout",
     "output_type": "stream",
     "text": [
      "root\n",
      " |-- _c0: string (nullable = true)\n",
      " |-- _c1: double (nullable = true)\n",
      " |-- _c2: double (nullable = true)\n",
      " |-- _c3: double (nullable = true)\n",
      " |-- _c4: double (nullable = true)\n",
      " |-- _c5: double (nullable = true)\n",
      " |-- _c6: double (nullable = true)\n",
      " |-- _c7: double (nullable = true)\n",
      " |-- _c8: integer (nullable = true)\n",
      "\n"
     ]
    }
   ],
   "source": [
    "df_pyspark.printSchema()"
   ]
  },
  {
   "cell_type": "code",
   "execution_count": 7,
   "id": "39e403e5",
   "metadata": {},
   "outputs": [
    {
     "data": {
      "text/plain": [
       "pyspark.sql.dataframe.DataFrame"
      ]
     },
     "execution_count": 7,
     "metadata": {},
     "output_type": "execute_result"
    }
   ],
   "source": [
    "type(df_pyspark)"
   ]
  },
  {
   "cell_type": "code",
   "execution_count": 8,
   "id": "dc254393",
   "metadata": {},
   "outputs": [],
   "source": [
    "columns_name=['Sex','Length','Diameter','Height','Whole Weight','Shucked Weight','Viscera Weight','Shell Weight','Rings']"
   ]
  },
  {
   "cell_type": "code",
   "execution_count": 9,
   "id": "5ed52ee6",
   "metadata": {},
   "outputs": [],
   "source": [
    "x=df_pyspark.toDF(*columns_name)"
   ]
  },
  {
   "cell_type": "code",
   "execution_count": 10,
   "id": "30523f84",
   "metadata": {},
   "outputs": [
    {
     "name": "stdout",
     "output_type": "stream",
     "text": [
      "+---+------+--------+------+------------+--------------+--------------+------------+-----+\n",
      "|Sex|Length|Diameter|Height|Whole Weight|Shucked Weight|Viscera Weight|Shell Weight|Rings|\n",
      "+---+------+--------+------+------------+--------------+--------------+------------+-----+\n",
      "|  M| 0.455|   0.365| 0.095|       0.514|        0.2245|         0.101|        0.15|   15|\n",
      "|  M|  0.35|   0.265|  0.09|      0.2255|        0.0995|        0.0485|        0.07|    7|\n",
      "|  F|  0.53|    0.42| 0.135|       0.677|        0.2565|        0.1415|        0.21|    9|\n",
      "|  M|  0.44|   0.365| 0.125|       0.516|        0.2155|         0.114|       0.155|   10|\n",
      "|  I|  0.33|   0.255|  0.08|       0.205|        0.0895|        0.0395|       0.055|    7|\n",
      "|  I| 0.425|     0.3| 0.095|      0.3515|         0.141|        0.0775|        0.12|    8|\n",
      "|  F|  0.53|   0.415|  0.15|      0.7775|         0.237|        0.1415|        0.33|   20|\n",
      "|  F| 0.545|   0.425| 0.125|       0.768|         0.294|        0.1495|        0.26|   16|\n",
      "|  M| 0.475|    0.37| 0.125|      0.5095|        0.2165|        0.1125|       0.165|    9|\n",
      "|  F|  0.55|    0.44|  0.15|      0.8945|        0.3145|         0.151|        0.32|   19|\n",
      "|  F| 0.525|    0.38|  0.14|      0.6065|         0.194|        0.1475|        0.21|   14|\n",
      "|  M|  0.43|    0.35|  0.11|       0.406|        0.1675|         0.081|       0.135|   10|\n",
      "|  M|  0.49|    0.38| 0.135|      0.5415|        0.2175|         0.095|        0.19|   11|\n",
      "|  F| 0.535|   0.405| 0.145|      0.6845|        0.2725|         0.171|       0.205|   10|\n",
      "|  F|  0.47|   0.355|   0.1|      0.4755|        0.1675|        0.0805|       0.185|   10|\n",
      "|  M|   0.5|     0.4|  0.13|      0.6645|         0.258|         0.133|        0.24|   12|\n",
      "|  I| 0.355|    0.28| 0.085|      0.2905|         0.095|        0.0395|       0.115|    7|\n",
      "|  F|  0.44|    0.34|   0.1|       0.451|         0.188|         0.087|        0.13|   10|\n",
      "|  M| 0.365|   0.295|  0.08|      0.2555|         0.097|         0.043|         0.1|    7|\n",
      "|  M|  0.45|    0.32|   0.1|       0.381|        0.1705|         0.075|       0.115|    9|\n",
      "+---+------+--------+------+------------+--------------+--------------+------------+-----+\n",
      "only showing top 20 rows\n",
      "\n"
     ]
    }
   ],
   "source": [
    "x.show()"
   ]
  },
  {
   "cell_type": "code",
   "execution_count": 11,
   "id": "7a23d2d1",
   "metadata": {},
   "outputs": [
    {
     "data": {
      "text/plain": [
       "[('Sex', 'string'),\n",
       " ('Length', 'double'),\n",
       " ('Diameter', 'double'),\n",
       " ('Height', 'double'),\n",
       " ('Whole Weight', 'double'),\n",
       " ('Shucked Weight', 'double'),\n",
       " ('Viscera Weight', 'double'),\n",
       " ('Shell Weight', 'double'),\n",
       " ('Rings', 'int')]"
      ]
     },
     "execution_count": 11,
     "metadata": {},
     "output_type": "execute_result"
    }
   ],
   "source": [
    "x.dtypes"
   ]
  },
  {
   "cell_type": "code",
   "execution_count": 12,
   "id": "33ee969f",
   "metadata": {},
   "outputs": [
    {
     "name": "stdout",
     "output_type": "stream",
     "text": [
      "+-------+----+-------------------+-------------------+-------------------+-------------------+-------------------+-------------------+-------------------+------------------+\n",
      "|summary| Sex|             Length|           Diameter|             Height|       Whole Weight|     Shucked Weight|     Viscera Weight|       Shell Weight|             Rings|\n",
      "+-------+----+-------------------+-------------------+-------------------+-------------------+-------------------+-------------------+-------------------+------------------+\n",
      "|  count|4177|               4177|               4177|               4177|               4177|               4177|               4177|               4177|              4177|\n",
      "|   mean|null| 0.5239920995930099|  0.407881254488869| 0.1395163993296614|   0.82874215944458|0.35936748862820106|0.18059360785252604|0.23883085946851795| 9.933684462532918|\n",
      "| stddev|null|0.12009291256479936|0.09923986613365941|0.04182705660725731|0.49038901823099795|0.22196294903322014|0.10961425025968445|0.13920266952238622|3.2241690320681315|\n",
      "|    min|   F|              0.075|              0.055|                0.0|              0.002|              0.001|             5.0E-4|             0.0015|                 1|\n",
      "|    max|   M|              0.815|               0.65|               1.13|             2.8255|              1.488|               0.76|              1.005|                29|\n",
      "+-------+----+-------------------+-------------------+-------------------+-------------------+-------------------+-------------------+-------------------+------------------+\n",
      "\n"
     ]
    }
   ],
   "source": [
    "x.describe().show()"
   ]
  },
  {
   "cell_type": "code",
   "execution_count": 13,
   "id": "68d1ff3b",
   "metadata": {},
   "outputs": [
    {
     "name": "stdout",
     "output_type": "stream",
     "text": [
      "+---+\n",
      "|Sex|\n",
      "+---+\n",
      "|  M|\n",
      "|  M|\n",
      "|  F|\n",
      "|  M|\n",
      "|  I|\n",
      "|  I|\n",
      "|  F|\n",
      "|  F|\n",
      "|  M|\n",
      "|  F|\n",
      "|  F|\n",
      "|  M|\n",
      "|  M|\n",
      "|  F|\n",
      "|  F|\n",
      "|  M|\n",
      "|  I|\n",
      "|  F|\n",
      "|  M|\n",
      "|  M|\n",
      "+---+\n",
      "only showing top 20 rows\n",
      "\n"
     ]
    }
   ],
   "source": [
    "x.select('Sex').show()"
   ]
  },
  {
   "cell_type": "code",
   "execution_count": 14,
   "id": "79e2c0bc",
   "metadata": {},
   "outputs": [],
   "source": [
    "import numpy as np"
   ]
  },
  {
   "cell_type": "code",
   "execution_count": 21,
   "id": "ff955854",
   "metadata": {},
   "outputs": [],
   "source": [
    "from pyspark.sql.functions import when\n",
    "x=x.withColumn(\"Sex\",when(x.Sex == \"M\",\"1\") \\\n",
    "      .when(x.Sex == \"F\",\"2\") \\\n",
    "      .otherwise(\"3\"))"
   ]
  },
  {
   "cell_type": "code",
   "execution_count": 22,
   "id": "fcd626c5",
   "metadata": {},
   "outputs": [
    {
     "name": "stdout",
     "output_type": "stream",
     "text": [
      "+---+\n",
      "|Sex|\n",
      "+---+\n",
      "|  1|\n",
      "|  1|\n",
      "|  2|\n",
      "|  1|\n",
      "|  3|\n",
      "|  3|\n",
      "|  2|\n",
      "|  2|\n",
      "|  1|\n",
      "|  2|\n",
      "|  2|\n",
      "|  1|\n",
      "|  1|\n",
      "|  2|\n",
      "|  2|\n",
      "|  1|\n",
      "|  3|\n",
      "|  2|\n",
      "|  1|\n",
      "|  1|\n",
      "+---+\n",
      "only showing top 20 rows\n",
      "\n"
     ]
    }
   ],
   "source": [
    "x.select('Sex').show()"
   ]
  },
  {
   "cell_type": "code",
   "execution_count": 24,
   "id": "05c9d43a",
   "metadata": {},
   "outputs": [],
   "source": [
    "x=x.withColumn(\"Sex\",x.Sex.cast(\"integer\"))"
   ]
  },
  {
   "cell_type": "code",
   "execution_count": 25,
   "id": "0e213664",
   "metadata": {},
   "outputs": [
    {
     "data": {
      "text/plain": [
       "[('Sex', 'int'),\n",
       " ('Length', 'double'),\n",
       " ('Diameter', 'double'),\n",
       " ('Height', 'double'),\n",
       " ('Whole Weight', 'double'),\n",
       " ('Shucked Weight', 'double'),\n",
       " ('Viscera Weight', 'double'),\n",
       " ('Shell Weight', 'double'),\n",
       " ('Rings', 'int')]"
      ]
     },
     "execution_count": 25,
     "metadata": {},
     "output_type": "execute_result"
    }
   ],
   "source": [
    "x.dtypes"
   ]
  },
  {
   "cell_type": "code",
   "execution_count": 26,
   "id": "264b5a0e",
   "metadata": {},
   "outputs": [],
   "source": [
    "from pyspark.ml.feature import VectorAssembler\n",
    "featureassembler=VectorAssembler(inputCols=columns_name,outputCol=\"Independent Features\")"
   ]
  },
  {
   "cell_type": "code",
   "execution_count": 27,
   "id": "b98f1df9",
   "metadata": {},
   "outputs": [],
   "source": [
    "X=output=featureassembler.transform(x)"
   ]
  },
  {
   "cell_type": "code",
   "execution_count": 28,
   "id": "a40a7ee4",
   "metadata": {},
   "outputs": [
    {
     "name": "stdout",
     "output_type": "stream",
     "text": [
      "+---+------+--------+------+------------+--------------+--------------+------------+-----+--------------------+\n",
      "|Sex|Length|Diameter|Height|Whole Weight|Shucked Weight|Viscera Weight|Shell Weight|Rings|Independent Features|\n",
      "+---+------+--------+------+------------+--------------+--------------+------------+-----+--------------------+\n",
      "|  1| 0.455|   0.365| 0.095|       0.514|        0.2245|         0.101|        0.15|   15|[1.0,0.455,0.365,...|\n",
      "|  1|  0.35|   0.265|  0.09|      0.2255|        0.0995|        0.0485|        0.07|    7|[1.0,0.35,0.265,0...|\n",
      "|  2|  0.53|    0.42| 0.135|       0.677|        0.2565|        0.1415|        0.21|    9|[2.0,0.53,0.42,0....|\n",
      "|  1|  0.44|   0.365| 0.125|       0.516|        0.2155|         0.114|       0.155|   10|[1.0,0.44,0.365,0...|\n",
      "|  3|  0.33|   0.255|  0.08|       0.205|        0.0895|        0.0395|       0.055|    7|[3.0,0.33,0.255,0...|\n",
      "|  3| 0.425|     0.3| 0.095|      0.3515|         0.141|        0.0775|        0.12|    8|[3.0,0.425,0.3,0....|\n",
      "|  2|  0.53|   0.415|  0.15|      0.7775|         0.237|        0.1415|        0.33|   20|[2.0,0.53,0.415,0...|\n",
      "|  2| 0.545|   0.425| 0.125|       0.768|         0.294|        0.1495|        0.26|   16|[2.0,0.545,0.425,...|\n",
      "|  1| 0.475|    0.37| 0.125|      0.5095|        0.2165|        0.1125|       0.165|    9|[1.0,0.475,0.37,0...|\n",
      "|  2|  0.55|    0.44|  0.15|      0.8945|        0.3145|         0.151|        0.32|   19|[2.0,0.55,0.44,0....|\n",
      "|  2| 0.525|    0.38|  0.14|      0.6065|         0.194|        0.1475|        0.21|   14|[2.0,0.525,0.38,0...|\n",
      "|  1|  0.43|    0.35|  0.11|       0.406|        0.1675|         0.081|       0.135|   10|[1.0,0.43,0.35,0....|\n",
      "|  1|  0.49|    0.38| 0.135|      0.5415|        0.2175|         0.095|        0.19|   11|[1.0,0.49,0.38,0....|\n",
      "|  2| 0.535|   0.405| 0.145|      0.6845|        0.2725|         0.171|       0.205|   10|[2.0,0.535,0.405,...|\n",
      "|  2|  0.47|   0.355|   0.1|      0.4755|        0.1675|        0.0805|       0.185|   10|[2.0,0.47,0.355,0...|\n",
      "|  1|   0.5|     0.4|  0.13|      0.6645|         0.258|         0.133|        0.24|   12|[1.0,0.5,0.4,0.13...|\n",
      "|  3| 0.355|    0.28| 0.085|      0.2905|         0.095|        0.0395|       0.115|    7|[3.0,0.355,0.28,0...|\n",
      "|  2|  0.44|    0.34|   0.1|       0.451|         0.188|         0.087|        0.13|   10|[2.0,0.44,0.34,0....|\n",
      "|  1| 0.365|   0.295|  0.08|      0.2555|         0.097|         0.043|         0.1|    7|[1.0,0.365,0.295,...|\n",
      "|  1|  0.45|    0.32|   0.1|       0.381|        0.1705|         0.075|       0.115|    9|[1.0,0.45,0.32,0....|\n",
      "+---+------+--------+------+------------+--------------+--------------+------------+-----+--------------------+\n",
      "only showing top 20 rows\n",
      "\n"
     ]
    }
   ],
   "source": [
    "X.show()"
   ]
  },
  {
   "cell_type": "code",
   "execution_count": 30,
   "id": "71dab7af",
   "metadata": {},
   "outputs": [],
   "source": [
    "finalized_data=X.select(\"Independent Features\",\"Rings\")"
   ]
  },
  {
   "cell_type": "code",
   "execution_count": 31,
   "id": "b247ec21",
   "metadata": {},
   "outputs": [
    {
     "name": "stdout",
     "output_type": "stream",
     "text": [
      "+--------------------+-----+\n",
      "|Independent Features|Rings|\n",
      "+--------------------+-----+\n",
      "|[1.0,0.455,0.365,...|   15|\n",
      "|[1.0,0.35,0.265,0...|    7|\n",
      "|[2.0,0.53,0.42,0....|    9|\n",
      "|[1.0,0.44,0.365,0...|   10|\n",
      "|[3.0,0.33,0.255,0...|    7|\n",
      "|[3.0,0.425,0.3,0....|    8|\n",
      "|[2.0,0.53,0.415,0...|   20|\n",
      "|[2.0,0.545,0.425,...|   16|\n",
      "|[1.0,0.475,0.37,0...|    9|\n",
      "|[2.0,0.55,0.44,0....|   19|\n",
      "|[2.0,0.525,0.38,0...|   14|\n",
      "|[1.0,0.43,0.35,0....|   10|\n",
      "|[1.0,0.49,0.38,0....|   11|\n",
      "|[2.0,0.535,0.405,...|   10|\n",
      "|[2.0,0.47,0.355,0...|   10|\n",
      "|[1.0,0.5,0.4,0.13...|   12|\n",
      "|[3.0,0.355,0.28,0...|    7|\n",
      "|[2.0,0.44,0.34,0....|   10|\n",
      "|[1.0,0.365,0.295,...|    7|\n",
      "|[1.0,0.45,0.32,0....|    9|\n",
      "+--------------------+-----+\n",
      "only showing top 20 rows\n",
      "\n"
     ]
    }
   ],
   "source": [
    "finalized_data.show()"
   ]
  },
  {
   "cell_type": "code",
   "execution_count": 32,
   "id": "0e60acaf",
   "metadata": {},
   "outputs": [],
   "source": [
    "from pyspark.ml.regression import LinearRegression\n",
    "##train test split\n",
    "train_data,test_data=finalized_data.randomSplit([0.75,0.25])\n",
    "regressor=LinearRegression(featuresCol='Independent Features', labelCol='Rings')\n",
    "regressor=regressor.fit(train_data)"
   ]
  },
  {
   "cell_type": "code",
   "execution_count": 35,
   "id": "67c483cf",
   "metadata": {},
   "outputs": [],
   "source": [
    "### Prediction\n",
    "pred_results=regressor.evaluate(test_data)"
   ]
  },
  {
   "cell_type": "code",
   "execution_count": 36,
   "id": "2cb7d248",
   "metadata": {},
   "outputs": [
    {
     "data": {
      "text/plain": [
       "(1.204209502650221e-14, 2.583840811569051e-28)"
      ]
     },
     "execution_count": 36,
     "metadata": {},
     "output_type": "execute_result"
    }
   ],
   "source": [
    "pred_results.meanAbsoluteError,pred_results.meanSquaredError"
   ]
  },
  {
   "cell_type": "code",
   "execution_count": 39,
   "id": "07e38fe7",
   "metadata": {},
   "outputs": [
    {
     "name": "stderr",
     "output_type": "stream",
     "text": [
      "C:\\Users\\new\\AppData\\Local\\Programs\\Python\\Python310\\lib\\site-packages\\pyspark\\sql\\context.py:125: FutureWarning: Deprecated in 3.0.0. Use SparkSession.builder.getOrCreate() instead.\n",
      "  warnings.warn(\n"
     ]
    },
    {
     "name": "stdout",
     "output_type": "stream",
     "text": [
      "+--------------------+-----+------------------+\n",
      "|Independent Features|Rings|        prediction|\n",
      "+--------------------+-----+------------------+\n",
      "|[1.0,0.18,0.125,0...|    3|2.9999999999999285|\n",
      "|[1.0,0.21,0.15,0....|    3|2.9999999999999343|\n",
      "|[1.0,0.27,0.195,0...|    7| 6.999999999999961|\n",
      "|[1.0,0.27,0.2,0.0...|    6| 5.999999999999956|\n",
      "|[1.0,0.275,0.2,0....|    5| 4.999999999999954|\n",
      "|[1.0,0.28,0.2,0.0...|    5| 4.999999999999956|\n",
      "|[1.0,0.295,0.225,...|    9| 8.999999999999972|\n",
      "|[1.0,0.31,0.225,0...|    9| 8.999999999999975|\n",
      "|[1.0,0.32,0.24,0....|    7| 6.999999999999968|\n",
      "|[1.0,0.335,0.255,...|    8| 7.999999999999975|\n",
      "|[1.0,0.345,0.255,...|    9|  8.99999999999998|\n",
      "|[1.0,0.35,0.255,0...|    9|  8.99999999999998|\n",
      "|[1.0,0.35,0.26,0....|    9|  8.99999999999998|\n",
      "|[1.0,0.355,0.26,0...|    6| 5.999999999999971|\n",
      "|[1.0,0.36,0.295,0...|    8| 7.999999999999973|\n",
      "|[1.0,0.37,0.265,0...|    6| 5.999999999999972|\n",
      "|[1.0,0.37,0.28,0....|    8| 7.999999999999979|\n",
      "|[1.0,0.37,0.285,0...|   10| 9.999999999999986|\n",
      "|[1.0,0.38,0.235,0...|    7| 6.999999999999978|\n",
      "|[1.0,0.38,0.285,0...|   11|10.999999999999995|\n",
      "+--------------------+-----+------------------+\n",
      "only showing top 20 rows\n",
      "\n"
     ]
    }
   ],
   "source": [
    "pred_results.predictions.show()"
   ]
  },
  {
   "cell_type": "code",
   "execution_count": null,
   "id": "cafdfd04",
   "metadata": {},
   "outputs": [],
   "source": []
  }
 ],
 "metadata": {
  "kernelspec": {
   "display_name": "Python 3 (ipykernel)",
   "language": "python",
   "name": "python3"
  },
  "language_info": {
   "codemirror_mode": {
    "name": "ipython",
    "version": 3
   },
   "file_extension": ".py",
   "mimetype": "text/x-python",
   "name": "python",
   "nbconvert_exporter": "python",
   "pygments_lexer": "ipython3",
   "version": "3.10.2"
  },
  "toc": {
   "base_numbering": 1,
   "nav_menu": {},
   "number_sections": true,
   "sideBar": true,
   "skip_h1_title": false,
   "title_cell": "Table of Contents",
   "title_sidebar": "Contents",
   "toc_cell": false,
   "toc_position": {},
   "toc_section_display": true,
   "toc_window_display": false
  }
 },
 "nbformat": 4,
 "nbformat_minor": 5
}
